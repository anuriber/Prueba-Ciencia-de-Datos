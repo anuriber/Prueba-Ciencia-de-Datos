{
  "nbformat": 4,
  "nbformat_minor": 0,
  "metadata": {
    "colab": {
      "name": "Class2.ipynb",
      "provenance": [],
      "include_colab_link": true
    },
    "kernelspec": {
      "name": "python3",
      "display_name": "Python 3"
    }
  },
  "cells": [
    {
      "cell_type": "markdown",
      "metadata": {
        "id": "view-in-github",
        "colab_type": "text"
      },
      "source": [
        "<a href=\"https://colab.research.google.com/github/anuriber/Prueba-Ciencia-de-Datos/blob/master/Class2.ipynb\" target=\"_parent\"><img src=\"https://colab.research.google.com/assets/colab-badge.svg\" alt=\"Open In Colab\"/></a>"
      ]
    },
    {
      "cell_type": "code",
      "metadata": {
        "id": "0TpHkokGv9hN",
        "colab_type": "code",
        "outputId": "3747fc24-6579-492a-fb0f-c0a4cb75de01",
        "colab": {
          "base_uri": "https://localhost:8080/",
          "height": 34
        }
      },
      "source": [
        "#Quita espacios entre palabras \n",
        "!echo hola  mundo         cruel\n"
      ],
      "execution_count": 0,
      "outputs": [
        {
          "output_type": "stream",
          "text": [
            "hola mundo cruel\n"
          ],
          "name": "stdout"
        }
      ]
    },
    {
      "cell_type": "code",
      "metadata": {
        "id": "W01tSjgKwmdC",
        "colab_type": "code",
        "outputId": "81479abe-6d59-4cfa-d289-95318cc820fa",
        "colab": {
          "base_uri": "https://localhost:8080/",
          "height": 34
        }
      },
      "source": [
        "# pone el texto tal cual \n",
        "!echo 'hola     mundo                cruel'"
      ],
      "execution_count": 0,
      "outputs": [
        {
          "output_type": "stream",
          "text": [
            "hola     mundo                cruel\n"
          ],
          "name": "stdout"
        }
      ]
    },
    {
      "cell_type": "code",
      "metadata": {
        "id": "-cLaY3PJxT7Q",
        "colab_type": "code",
        "outputId": "9ae97248-2175-4fba-e74b-5ce8e96259dc",
        "colab": {
          "base_uri": "https://localhost:8080/",
          "height": 34
        }
      },
      "source": [
        "!echo \"hola     mundo                cruel\""
      ],
      "execution_count": 0,
      "outputs": [
        {
          "output_type": "stream",
          "text": [
            "hola     mundo                cruel\n"
          ],
          "name": "stdout"
        }
      ]
    },
    {
      "cell_type": "code",
      "metadata": {
        "id": "f2GM-z7Fxbix",
        "colab_type": "code",
        "outputId": "f234a7a9-996e-4c8d-b566-172d716aa7e5",
        "colab": {
          "base_uri": "https://localhost:8080/",
          "height": 68
        }
      },
      "source": [
        "# impresion de varias lineas de texto\n",
        "!echo linea 1\n",
        "!echo linea 2\n",
        "!echo linea 3"
      ],
      "execution_count": 0,
      "outputs": [
        {
          "output_type": "stream",
          "text": [
            "linea 1\n",
            "linea 2\n",
            "linea 3\n"
          ],
          "name": "stdout"
        }
      ]
    },
    {
      "cell_type": "code",
      "metadata": {
        "id": "dcH5zrkSxqL8",
        "colab_type": "code",
        "outputId": "be7c997c-1ac3-4c3d-d224-f75f420566a9",
        "colab": {
          "base_uri": "https://localhost:8080/",
          "height": 129
        }
      },
      "source": [
        "!echo 'linea 1\\n\n",
        "linea2\\n\n",
        "linea3\\n'\n"
      ],
      "execution_count": 0,
      "outputs": [
        {
          "output_type": "error",
          "ename": "SyntaxError",
          "evalue": "ignored",
          "traceback": [
            "\u001b[0;36m  File \u001b[0;32m\"<ipython-input-21-a08bbdce08b5>\"\u001b[0;36m, line \u001b[0;32m2\u001b[0m\n\u001b[0;31m    linea2\\n\u001b[0m\n\u001b[0m            ^\u001b[0m\n\u001b[0;31mSyntaxError\u001b[0m\u001b[0;31m:\u001b[0m unexpected character after line continuation character\n"
          ]
        }
      ]
    },
    {
      "cell_type": "code",
      "metadata": {
        "id": "PfRi8zGUyNY3",
        "colab_type": "code",
        "outputId": "f075858e-c947-4b7f-ff39-41b1f23edc03",
        "colab": {
          "base_uri": "https://localhost:8080/",
          "height": 34
        }
      },
      "source": [
        "#impresion en la misma linea\n",
        "!echo linea 1 \\\n",
        "linea 2 \\\n",
        "linea 3"
      ],
      "execution_count": 0,
      "outputs": [
        {
          "output_type": "stream",
          "text": [
            "linea 1 linea 2 linea 3\n"
          ],
          "name": "stdout"
        }
      ]
    },
    {
      "cell_type": "code",
      "metadata": {
        "id": "4Mny3cg4yYgB",
        "colab_type": "code",
        "outputId": "fe89cd47-057f-4a8a-daea-607e96d9fe87",
        "colab": {
          "base_uri": "https://localhost:8080/",
          "height": 68
        }
      },
      "source": [
        "\n",
        "# impresiión en el siguiente reglon \n",
        "!echo -e \"linea 1\\nlinea 2\\nlinea 3\""
      ],
      "execution_count": 0,
      "outputs": [
        {
          "output_type": "stream",
          "text": [
            "linea 1\n",
            "linea 2\n",
            "linea 3\n"
          ],
          "name": "stdout"
        }
      ]
    },
    {
      "cell_type": "code",
      "metadata": {
        "id": "Ilefidt6yzbW",
        "colab_type": "code",
        "outputId": "04192736-aba5-4a98-ebd2-2d5aaa9fb387",
        "colab": {
          "base_uri": "https://localhost:8080/",
          "height": 34
        }
      },
      "source": [
        "!printf '%s ---- %f' 'hola mundo'  1.2345678"
      ],
      "execution_count": 0,
      "outputs": [
        {
          "output_type": "stream",
          "text": [
            "hola mundo ---- 1.234568"
          ],
          "name": "stdout"
        }
      ]
    },
    {
      "cell_type": "code",
      "metadata": {
        "id": "WAs7F3PZzFYU",
        "colab_type": "code",
        "colab": {
          "base_uri": "https://localhost:8080/",
          "height": 34
        },
        "outputId": "77d7c83c-70ab-453a-b84d-db6cda43ecd5"
      },
      "source": [
        "!printf '%15s --- %8.2f'  hola   1.23456789"
      ],
      "execution_count": 45,
      "outputs": [
        {
          "output_type": "stream",
          "text": [
            "           hola ---     1.23"
          ],
          "name": "stdout"
        }
      ]
    },
    {
      "cell_type": "code",
      "metadata": {
        "id": "Lh01BXjmzZAg",
        "colab_type": "code",
        "outputId": "599aa955-e022-4cb0-eac4-3f0175737944",
        "colab": {
          "base_uri": "https://localhost:8080/",
          "height": 34
        }
      },
      "source": [
        "!printf '%15s --- %15.3f'  'hola mundo'   123.456789"
      ],
      "execution_count": 49,
      "outputs": [
        {
          "output_type": "stream",
          "text": [
            "     hola mundo ---         123.457"
          ],
          "name": "stdout"
        }
      ]
    },
    {
      "cell_type": "code",
      "metadata": {
        "id": "9bD_LbWezka9",
        "colab_type": "code",
        "outputId": "e336992f-9429-4b51-c644-78a1831d68a5",
        "colab": {
          "base_uri": "https://localhost:8080/",
          "height": 102
        }
      },
      "source": [
        "!seq 5"
      ],
      "execution_count": 0,
      "outputs": [
        {
          "output_type": "stream",
          "text": [
            "1\n",
            "2\n",
            "3\n",
            "4\n",
            "5\n"
          ],
          "name": "stdout"
        }
      ]
    },
    {
      "cell_type": "code",
      "metadata": {
        "id": "jAJezoA00FYY",
        "colab_type": "code",
        "colab": {
          "base_uri": "https://localhost:8080/",
          "height": 34
        },
        "outputId": "5dc3bf8c-8f00-4e05-e3fa-fdd844fde862"
      },
      "source": [
        "# indica separador\n",
        "!seq -s, 2 2 10 # el separador es la coma"
      ],
      "execution_count": 35,
      "outputs": [
        {
          "output_type": "stream",
          "text": [
            "2,4,6,8,10\n"
          ],
          "name": "stdout"
        }
      ]
    },
    {
      "cell_type": "code",
      "metadata": {
        "id": "qMPHcZ650Kk3",
        "colab_type": "code",
        "colab": {
          "base_uri": "https://localhost:8080/",
          "height": 68
        },
        "outputId": "e137dc94-cf0a-4d11-d61d-cebb99bafefe"
      },
      "source": [
        "!seq 0 .05 .1 # valor inicial, incremento y valor final"
      ],
      "execution_count": 36,
      "outputs": [
        {
          "output_type": "stream",
          "text": [
            "0.00\n",
            "0.05\n",
            "0.10\n"
          ],
          "name": "stdout"
        }
      ]
    },
    {
      "cell_type": "code",
      "metadata": {
        "id": "MqhTo1EB0N5m",
        "colab_type": "code",
        "colab": {
          "base_uri": "https://localhost:8080/",
          "height": 68
        },
        "outputId": "1198300f-a0bd-46bf-e0f9-3ca96b702464"
      },
      "source": [
        "#especifica el formato\n",
        "!seq -w 0 .05 .1"
      ],
      "execution_count": 37,
      "outputs": [
        {
          "output_type": "stream",
          "text": [
            "0.00\n",
            "0.05\n",
            "0.10\n"
          ],
          "name": "stdout"
        }
      ]
    },
    {
      "cell_type": "code",
      "metadata": {
        "id": "kp3sD_ia3WyG",
        "colab_type": "code",
        "colab": {
          "base_uri": "https://localhost:8080/",
          "height": 119
        },
        "outputId": "42d91f91-6e94-4210-bb85-1968545d3dee"
      },
      "source": [
        "%%bash\n",
        "seq -w 0 2 10"
      ],
      "execution_count": 38,
      "outputs": [
        {
          "output_type": "stream",
          "text": [
            "00\n",
            "02\n",
            "04\n",
            "06\n",
            "08\n",
            "10\n"
          ],
          "name": "stdout"
        }
      ]
    },
    {
      "cell_type": "code",
      "metadata": {
        "id": "C5IyaVbq0TrS",
        "colab_type": "code",
        "colab": {
          "base_uri": "https://localhost:8080/",
          "height": 34
        },
        "outputId": "61fccc53-3d4b-430a-e075-de1cb02c1654"
      },
      "source": [
        "%%bash\n",
        "echo hola \\\n",
        "mundo \\\n",
        "cruel\n"
      ],
      "execution_count": 40,
      "outputs": [
        {
          "output_type": "stream",
          "text": [
            "hola mundo cruel\n"
          ],
          "name": "stdout"
        }
      ]
    },
    {
      "cell_type": "code",
      "metadata": {
        "id": "-4Hlg_fN38UR",
        "colab_type": "code",
        "colab": {
          "base_uri": "https://localhost:8080/",
          "height": 51
        },
        "outputId": "7a05786a-a2b6-4beb-df29-7d8b721cfce3"
      },
      "source": [
        "!echo hola && echo mundo"
      ],
      "execution_count": 51,
      "outputs": [
        {
          "output_type": "stream",
          "text": [
            "hola\n",
            "mundo\n"
          ],
          "name": "stdout"
        }
      ]
    },
    {
      "cell_type": "code",
      "metadata": {
        "id": "Zc1Tn24c5tgT",
        "colab_type": "code",
        "colab": {}
      },
      "source": [
        "!echo hola mundo feliz > clase.txt"
      ],
      "execution_count": 0,
      "outputs": []
    },
    {
      "cell_type": "code",
      "metadata": {
        "id": "aLKCVpdo57He",
        "colab_type": "code",
        "colab": {}
      },
      "source": [
        "!echo esta es la segunda linea >> clase.txt"
      ],
      "execution_count": 0,
      "outputs": []
    },
    {
      "cell_type": "code",
      "metadata": {
        "id": "f1BoKYAY6RAH",
        "colab_type": "code",
        "colab": {
          "base_uri": "https://localhost:8080/",
          "height": 51
        },
        "outputId": "e7251e70-4629-4dc3-e445-3425a82101ee"
      },
      "source": [
        "!cat clase.txt"
      ],
      "execution_count": 54,
      "outputs": [
        {
          "output_type": "stream",
          "text": [
            "hola mundo feliz\n",
            "esta es la segunda linea\n"
          ],
          "name": "stdout"
        }
      ]
    },
    {
      "cell_type": "code",
      "metadata": {
        "id": "5g02m1kO6ahk",
        "colab_type": "code",
        "colab": {
          "base_uri": "https://localhost:8080/",
          "height": 51
        },
        "outputId": "2725d246-31d5-45e0-9f44-cb5cc0546085"
      },
      "source": [
        "# primeras líneas\n",
        "!head clase.txt"
      ],
      "execution_count": 55,
      "outputs": [
        {
          "output_type": "stream",
          "text": [
            "hola mundo feliz\n",
            "esta es la segunda linea\n"
          ],
          "name": "stdout"
        }
      ]
    },
    {
      "cell_type": "code",
      "metadata": {
        "id": "KKDLItBy6gRW",
        "colab_type": "code",
        "colab": {
          "base_uri": "https://localhost:8080/",
          "height": 51
        },
        "outputId": "5192649f-8689-45de-8e13-83b722700f0f"
      },
      "source": [
        "#últimas filas del archivo\n",
        "!tail clase.txt"
      ],
      "execution_count": 56,
      "outputs": [
        {
          "output_type": "stream",
          "text": [
            "hola mundo feliz\n",
            "esta es la segunda linea\n"
          ],
          "name": "stdout"
        }
      ]
    },
    {
      "cell_type": "code",
      "metadata": {
        "id": "6qj7EQog7adK",
        "colab_type": "code",
        "colab": {}
      },
      "source": [
        "%%bash\n",
        "echo \"CustomerID, customer\n",
        "1, A  \n",
        "2, B\" > out.txt"
      ],
      "execution_count": 0,
      "outputs": []
    },
    {
      "cell_type": "code",
      "metadata": {
        "id": "ofwrjlZu8clB",
        "colab_type": "code",
        "colab": {}
      },
      "source": [
        "rm out.1"
      ],
      "execution_count": 0,
      "outputs": []
    },
    {
      "cell_type": "code",
      "metadata": {
        "id": "8aC-i-xE8hex",
        "colab_type": "code",
        "colab": {
          "base_uri": "https://localhost:8080/",
          "height": 1000
        },
        "outputId": "7d1af60c-340e-4041-da30-22f3d7d6dd7c"
      },
      "source": [
        "!seq -f\"linea %g\" 1 1 30 > out.1\n",
        "!seq -f\"linea %g\" 31 1 61 > out.2\n",
        "!seq -f\"linea %g\" 62 1 100 > out.3\n",
        "!cat out.1 out.2 out.3"
      ],
      "execution_count": 67,
      "outputs": [
        {
          "output_type": "stream",
          "text": [
            "linea 1\n",
            "linea 2\n",
            "linea 3\n",
            "linea 4\n",
            "linea 5\n",
            "linea 6\n",
            "linea 7\n",
            "linea 8\n",
            "linea 9\n",
            "linea 10\n",
            "linea 11\n",
            "linea 12\n",
            "linea 13\n",
            "linea 14\n",
            "linea 15\n",
            "linea 16\n",
            "linea 17\n",
            "linea 18\n",
            "linea 19\n",
            "linea 20\n",
            "linea 21\n",
            "linea 22\n",
            "linea 23\n",
            "linea 24\n",
            "linea 25\n",
            "linea 26\n",
            "linea 27\n",
            "linea 28\n",
            "linea 29\n",
            "linea 30\n",
            "linea 31\n",
            "linea 32\n",
            "linea 33\n",
            "linea 34\n",
            "linea 35\n",
            "linea 36\n",
            "linea 37\n",
            "linea 38\n",
            "linea 39\n",
            "linea 40\n",
            "linea 41\n",
            "linea 42\n",
            "linea 43\n",
            "linea 44\n",
            "linea 45\n",
            "linea 46\n",
            "linea 47\n",
            "linea 48\n",
            "linea 49\n",
            "linea 50\n",
            "linea 51\n",
            "linea 52\n",
            "linea 53\n",
            "linea 54\n",
            "linea 55\n",
            "linea 56\n",
            "linea 57\n",
            "linea 58\n",
            "linea 59\n",
            "linea 60\n",
            "linea 61\n",
            "linea 62\n",
            "linea 63\n",
            "linea 64\n",
            "linea 65\n",
            "linea 66\n",
            "linea 67\n",
            "linea 68\n",
            "linea 69\n",
            "linea 70\n",
            "linea 71\n",
            "linea 72\n",
            "linea 73\n",
            "linea 74\n",
            "linea 75\n",
            "linea 76\n",
            "linea 77\n",
            "linea 78\n",
            "linea 79\n",
            "linea 80\n",
            "linea 81\n",
            "linea 82\n",
            "linea 83\n",
            "linea 84\n",
            "linea 85\n",
            "linea 86\n",
            "linea 87\n",
            "linea 88\n",
            "linea 89\n",
            "linea 90\n",
            "linea 91\n",
            "linea 92\n",
            "linea 93\n",
            "linea 94\n",
            "linea 95\n",
            "linea 96\n",
            "linea 97\n",
            "linea 98\n",
            "linea 99\n",
            "linea 100\n"
          ],
          "name": "stdout"
        }
      ]
    },
    {
      "cell_type": "code",
      "metadata": {
        "id": "mCINBldB9VnS",
        "colab_type": "code",
        "colab": {}
      },
      "source": [
        "!tail +2 *.1> datoscompletos.csv"
      ],
      "execution_count": 0,
      "outputs": []
    },
    {
      "cell_type": "code",
      "metadata": {
        "id": "B_cV5CMZ-BWL",
        "colab_type": "code",
        "colab": {
          "base_uri": "https://localhost:8080/",
          "height": 102
        },
        "outputId": "0706c5da-2858-46ec-88fa-ee1d2df40d33"
      },
      "source": [
        "!head -n5 out.3"
      ],
      "execution_count": 69,
      "outputs": [
        {
          "output_type": "stream",
          "text": [
            "linea 62\n",
            "linea 63\n",
            "linea 64\n",
            "linea 65\n",
            "linea 66\n"
          ],
          "name": "stdout"
        }
      ]
    },
    {
      "cell_type": "code",
      "metadata": {
        "id": "3E_6WyAE-IW-",
        "colab_type": "code",
        "colab": {
          "base_uri": "https://localhost:8080/",
          "height": 187
        },
        "outputId": "7770a420-fe04-45b9-81cc-68c287439acb"
      },
      "source": [
        "!tail -n10 out.1"
      ],
      "execution_count": 70,
      "outputs": [
        {
          "output_type": "stream",
          "text": [
            "linea 21\n",
            "linea 22\n",
            "linea 23\n",
            "linea 24\n",
            "linea 25\n",
            "linea 26\n",
            "linea 27\n",
            "linea 28\n",
            "linea 29\n",
            "linea 30\n"
          ],
          "name": "stdout"
        }
      ]
    },
    {
      "cell_type": "code",
      "metadata": {
        "id": "IrHsy8Cm-PWB",
        "colab_type": "code",
        "colab": {
          "base_uri": "https://localhost:8080/",
          "height": 510
        },
        "outputId": "dfd2dcc6-bf16-4140-fabf-8de8a14c4e30"
      },
      "source": [
        "!cat datoscompletos.csv"
      ],
      "execution_count": 73,
      "outputs": [
        {
          "output_type": "stream",
          "text": [
            "linea 2\n",
            "linea 3\n",
            "linea 4\n",
            "linea 5\n",
            "linea 6\n",
            "linea 7\n",
            "linea 8\n",
            "linea 9\n",
            "linea 10\n",
            "linea 11\n",
            "linea 12\n",
            "linea 13\n",
            "linea 14\n",
            "linea 15\n",
            "linea 16\n",
            "linea 17\n",
            "linea 18\n",
            "linea 19\n",
            "linea 20\n",
            "linea 21\n",
            "linea 22\n",
            "linea 23\n",
            "linea 24\n",
            "linea 25\n",
            "linea 26\n",
            "linea 27\n",
            "linea 28\n",
            "linea 29\n",
            "linea 30\n"
          ],
          "name": "stdout"
        }
      ]
    },
    {
      "cell_type": "code",
      "metadata": {
        "id": "UVuoc9ML-xG1",
        "colab_type": "code",
        "colab": {
          "base_uri": "https://localhost:8080/",
          "height": 51
        },
        "outputId": "5ee4c25b-30c9-4b2e-cc13-99f6cd7efee8"
      },
      "source": [
        "ls -1 *.txt"
      ],
      "execution_count": 74,
      "outputs": [
        {
          "output_type": "stream",
          "text": [
            "clase.txt\n",
            "out.txt\n"
          ],
          "name": "stdout"
        }
      ]
    },
    {
      "cell_type": "code",
      "metadata": {
        "id": "sNSzJAwD_FSx",
        "colab_type": "code",
        "colab": {
          "base_uri": "https://localhost:8080/",
          "height": 272
        },
        "outputId": "f39d8357-73d3-441c-fca4-9ce80272bc3b"
      },
      "source": [
        "!seq -f 'linea %g' 5 > out.1\n",
        "!cat out.1 out.1 out.1"
      ],
      "execution_count": 79,
      "outputs": [
        {
          "output_type": "stream",
          "text": [
            "linea 1\n",
            "linea 2\n",
            "linea 3\n",
            "linea 4\n",
            "linea 5\n",
            "linea 1\n",
            "linea 2\n",
            "linea 3\n",
            "linea 4\n",
            "linea 5\n",
            "linea 1\n",
            "linea 2\n",
            "linea 3\n",
            "linea 4\n",
            "linea 5\n"
          ],
          "name": "stdout"
        }
      ]
    },
    {
      "cell_type": "code",
      "metadata": {
        "id": "lCZOCqZbARsG",
        "colab_type": "code",
        "colab": {
          "base_uri": "https://localhost:8080/",
          "height": 527
        },
        "outputId": "08992dfe-f938-4df8-ca84-0deb77b64b10"
      },
      "source": [
        "!seq -f 'linea %g' 5 > out.1\n",
        "!cat out.1 out.1 out.1 | sort\n",
        "!cat out.1 out.1 out.1 | sort > ordenado.txt && cat ordenado.txt"
      ],
      "execution_count": 81,
      "outputs": [
        {
          "output_type": "stream",
          "text": [
            "linea 1\n",
            "linea 1\n",
            "linea 1\n",
            "linea 2\n",
            "linea 2\n",
            "linea 2\n",
            "linea 3\n",
            "linea 3\n",
            "linea 3\n",
            "linea 4\n",
            "linea 4\n",
            "linea 4\n",
            "linea 5\n",
            "linea 5\n",
            "linea 5\n",
            "linea 1\n",
            "linea 1\n",
            "linea 1\n",
            "linea 2\n",
            "linea 2\n",
            "linea 2\n",
            "linea 3\n",
            "linea 3\n",
            "linea 3\n",
            "linea 4\n",
            "linea 4\n",
            "linea 4\n",
            "linea 5\n",
            "linea 5\n",
            "linea 5\n"
          ],
          "name": "stdout"
        }
      ]
    },
    {
      "cell_type": "code",
      "metadata": {
        "id": "o_OCH2IUBYth",
        "colab_type": "code",
        "colab": {
          "base_uri": "https://localhost:8080/",
          "height": 102
        },
        "outputId": "a3e6ddfc-5a36-49b2-98af-874fd179cb6d"
      },
      "source": [
        "!cat out.1 out.1 out.1 | sort |uniq"
      ],
      "execution_count": 82,
      "outputs": [
        {
          "output_type": "stream",
          "text": [
            "linea 1\n",
            "linea 2\n",
            "linea 3\n",
            "linea 4\n",
            "linea 5\n"
          ],
          "name": "stdout"
        }
      ]
    },
    {
      "cell_type": "code",
      "metadata": {
        "id": "MFAzn_dyBqOJ",
        "colab_type": "code",
        "colab": {}
      },
      "source": [
        "# en la secuencia busqueme la que tenga un 1\n",
        "!seq 20 | grep 1"
      ],
      "execution_count": 0,
      "outputs": []
    },
    {
      "cell_type": "code",
      "metadata": {
        "id": "uouAqQyrB4Qd",
        "colab_type": "code",
        "colab": {
          "base_uri": "https://localhost:8080/",
          "height": 204
        },
        "outputId": "0783b091-0e9a-450c-d174-c4daa3b90d27"
      },
      "source": [
        "!seq -f 'linea %g' 20 > out.1\n",
        "!grep 1 out.1"
      ],
      "execution_count": 86,
      "outputs": [
        {
          "output_type": "stream",
          "text": [
            "linea 1\n",
            "linea 10\n",
            "linea 11\n",
            "linea 12\n",
            "linea 13\n",
            "linea 14\n",
            "linea 15\n",
            "linea 16\n",
            "linea 17\n",
            "linea 18\n",
            "linea 19\n"
          ],
          "name": "stdout"
        }
      ]
    },
    {
      "cell_type": "code",
      "metadata": {
        "id": "W1NY_rkiJcTx",
        "colab_type": "code",
        "colab": {
          "base_uri": "https://localhost:8080/",
          "height": 34
        },
        "outputId": "181c59fd-8db0-451a-84f1-6ab33da06f97"
      },
      "source": [
        "!seq 20 |grep 1 | wc -l"
      ],
      "execution_count": 87,
      "outputs": [
        {
          "output_type": "stream",
          "text": [
            "11\n"
          ],
          "name": "stdout"
        }
      ]
    },
    {
      "cell_type": "code",
      "metadata": {
        "id": "UM5o8TdwJz29",
        "colab_type": "code",
        "colab": {
          "base_uri": "https://localhost:8080/",
          "height": 34
        },
        "outputId": "2c586187-8e2f-42a0-b699-abfa08e547b7"
      },
      "source": [
        "#borra los caracteres '-'\n",
        "!echo 'h-o-l-a- -m-un-d-o' > out.2\n",
        "!tr -d '-'< out.2"
      ],
      "execution_count": 95,
      "outputs": [
        {
          "output_type": "stream",
          "text": [
            "hola mundo\n"
          ],
          "name": "stdout"
        }
      ]
    },
    {
      "cell_type": "code",
      "metadata": {
        "id": "i35ZZ73rLDE9",
        "colab_type": "code",
        "colab": {
          "base_uri": "https://localhost:8080/",
          "height": 34
        },
        "outputId": "556e3ad0-d584-4c32-f8af-0e2cc198d034"
      },
      "source": [
        "%%bash\n",
        "echo 'h-o-l-a- -m-un-d-o' > out.1\n",
        "tr '-' '='< out.1"
      ],
      "execution_count": 96,
      "outputs": [
        {
          "output_type": "stream",
          "text": [
            "h=o=l=a= =m=un=d=o\n"
          ],
          "name": "stdout"
        }
      ]
    },
    {
      "cell_type": "code",
      "metadata": {
        "id": "i3z4copSLts7",
        "colab_type": "code",
        "colab": {
          "base_uri": "https://localhost:8080/",
          "height": 34
        },
        "outputId": "b1f40928-6d60-4e21-baa3-88f6c3ef273a"
      },
      "source": [
        "# Cambiar de minusculas a mayusculas\n",
        "%%bash\n",
        "echo 'h-o-l-a- -m-un-d-o' > out.1\n",
        "tr '[:lower:]' '[:upper:]'< out.1"
      ],
      "execution_count": 98,
      "outputs": [
        {
          "output_type": "stream",
          "text": [
            "H-O-L-A- -M-UN-D-O\n"
          ],
          "name": "stdout"
        }
      ]
    },
    {
      "cell_type": "code",
      "metadata": {
        "id": "IbLXK6WwMz88",
        "colab_type": "code",
        "colab": {
          "base_uri": "https://localhost:8080/",
          "height": 34
        },
        "outputId": "7d98e47f-05bf-4729-bb4b-70dec1f07149"
      },
      "source": [
        "%%bash\n",
        "echo 'HOLA MUNDO' > out.1\n",
        "tr '[:upper:]' '[:lower:]'< out.1"
      ],
      "execution_count": 102,
      "outputs": [
        {
          "output_type": "stream",
          "text": [
            "hola mundo\n"
          ],
          "name": "stdout"
        }
      ]
    },
    {
      "cell_type": "code",
      "metadata": {
        "id": "uWTlxhrnMWBr",
        "colab_type": "code",
        "colab": {}
      },
      "source": [
        "%%bash\n",
        "echo \"Date, Year, CustomerID, Value\n",
        "2013-01-12, 2013, 1, 100\n",
        "2014-05-12, 2014, 1, 100\n",
        "2013-02-25, 2013, 2, 200\n",
        "2013-04-04, 2013, 1, 100\n",
        "2013-06-21, 2013, 2, 200\n",
        "2014-05-12, 2014, 1, 100\n",
        "2014-05-12, 2014, 2, 200\n",
        "2013-02-28, 2013, 1, 100\n",
        "2013-08-02, 2013, 1, 100\" > out.txt\n",
        "\n",
        "# Saque la primera linea\n",
        "# convierta en minuscula\n",
        "# guarde en un archivo\n",
        "# concatene\n",
        "\n"
      ],
      "execution_count": 0,
      "outputs": []
    },
    {
      "cell_type": "code",
      "metadata": {
        "id": "JzcObxnIOOdf",
        "colab_type": "code",
        "colab": {}
      },
      "source": [
        "!head -n1 out.txt | tr '[:upper:]' '[:lower:]'> convert.txt && tail -n +2 out.txt >> convert.txt\n"
      ],
      "execution_count": 0,
      "outputs": []
    },
    {
      "cell_type": "code",
      "metadata": {
        "id": "fq3rpfFaOr-e",
        "colab_type": "code",
        "colab": {}
      },
      "source": [
        "!head -n1 out.txt | tr ',' '\\n'> convert1.txt && tail -n +2 out.txt >> convert1.txt\n"
      ],
      "execution_count": 0,
      "outputs": []
    },
    {
      "cell_type": "code",
      "metadata": {
        "id": "kqM4ysRuUJJX",
        "colab_type": "code",
        "colab": {
          "base_uri": "https://localhost:8080/",
          "height": 34
        },
        "outputId": "2bf744f4-6d6f-4401-b0f4-9a02dd342d37"
      },
      "source": [
        "%%bash\n",
        "wc -l convert.txt"
      ],
      "execution_count": 137,
      "outputs": [
        {
          "output_type": "stream",
          "text": [
            "10 convert.txt\n"
          ],
          "name": "stdout"
        }
      ]
    },
    {
      "cell_type": "code",
      "metadata": {
        "id": "gDY-gPyIVFqa",
        "colab_type": "code",
        "colab": {
          "base_uri": "https://localhost:8080/",
          "height": 34
        },
        "outputId": "c6468509-5676-41ec-ce42-4e0bbc7baad9"
      },
      "source": [
        "%%bash\n",
        "head -n1 out.txt | tr ',' '\\n'>convert2.txt \n",
        "wc -l convert2.txt"
      ],
      "execution_count": 136,
      "outputs": [
        {
          "output_type": "stream",
          "text": [
            "4 convert2.txt\n"
          ],
          "name": "stdout"
        }
      ]
    },
    {
      "cell_type": "code",
      "metadata": {
        "id": "-CkdUlahWA6Z",
        "colab_type": "code",
        "colab": {
          "base_uri": "https://localhost:8080/",
          "height": 170
        },
        "outputId": "51272e94-5d21-4874-bb77-5e677d3536d3"
      },
      "source": [
        "%%bash\n",
        "echo \"123456790\n",
        "abcdefghi\n",
        "jklmnopqr\" > cortes.txt\n",
        "cut -c3-5 cortes.txt\n",
        "cut -c3,4,5 cortes.txt\n",
        "cut -c2,5-7 cortes.txt"
      ],
      "execution_count": 142,
      "outputs": [
        {
          "output_type": "stream",
          "text": [
            "345\n",
            "cde\n",
            "lmn\n",
            "345\n",
            "cde\n",
            "lmn\n",
            "2567\n",
            "befg\n",
            "knop\n"
          ],
          "name": "stdout"
        }
      ]
    },
    {
      "cell_type": "code",
      "metadata": {
        "id": "m1YAkGYHXb4_",
        "colab_type": "code",
        "colab": {
          "base_uri": "https://localhost:8080/",
          "height": 119
        },
        "outputId": "efb80432-3eb9-410c-c49a-6ad614697ac8"
      },
      "source": [
        "%%bash\n",
        "seq -f\"--> [%g] <--\" 3 > delimitador.txt\n",
        "seq -f\"------> [%g] <------\" 3 >> delimitador.txt\n",
        "cat delimitador.txt"
      ],
      "execution_count": 144,
      "outputs": [
        {
          "output_type": "stream",
          "text": [
            "--> [1] <--\n",
            "--> [2] <--\n",
            "--> [3] <--\n",
            "------> [1] <------\n",
            "------> [2] <------\n",
            "------> [3] <------\n"
          ],
          "name": "stdout"
        }
      ]
    },
    {
      "cell_type": "code",
      "metadata": {
        "id": "fErhLKCOYBd5",
        "colab_type": "code",
        "colab": {
          "base_uri": "https://localhost:8080/",
          "height": 119
        },
        "outputId": "bb55c6e2-15c0-4011-8036-e8e78974f68d"
      },
      "source": [
        "%%bash\n",
        "cut -d'[' -f2 delimitador.txt"
      ],
      "execution_count": 150,
      "outputs": [
        {
          "output_type": "stream",
          "text": [
            "1] <--\n",
            "2] <--\n",
            "3] <--\n",
            "1] <------\n",
            "2] <------\n",
            "3] <------\n"
          ],
          "name": "stdout"
        }
      ]
    },
    {
      "cell_type": "code",
      "metadata": {
        "id": "SmGTOK0zYuZU",
        "colab_type": "code",
        "colab": {
          "base_uri": "https://localhost:8080/",
          "height": 119
        },
        "outputId": "1fca9d99-711e-4d3b-95c6-3d106a53f0d0"
      },
      "source": [
        "%%bash\n",
        "cut -d']' -f1 delimitador.txt"
      ],
      "execution_count": 155,
      "outputs": [
        {
          "output_type": "stream",
          "text": [
            "--> [1\n",
            "--> [2\n",
            "--> [3\n",
            "------> [1\n",
            "------> [2\n",
            "------> [3\n"
          ],
          "name": "stdout"
        }
      ]
    },
    {
      "cell_type": "code",
      "metadata": {
        "id": "GmBDAKMmY9Dj",
        "colab_type": "code",
        "colab": {
          "base_uri": "https://localhost:8080/",
          "height": 119
        },
        "outputId": "68542a22-8e71-4499-dff6-79cd50317686"
      },
      "source": [
        "# combinación de los cortes\n",
        "%%bash\n",
        "cut -d'[' -f2 delimitador.txt | cut -d']' -f1"
      ],
      "execution_count": 157,
      "outputs": [
        {
          "output_type": "stream",
          "text": [
            "1\n",
            "2\n",
            "3\n",
            "1\n",
            "2\n",
            "3\n"
          ],
          "name": "stdout"
        }
      ]
    },
    {
      "cell_type": "code",
      "metadata": {
        "id": "2OOl1xYUZVrb",
        "colab_type": "code",
        "colab": {
          "base_uri": "https://localhost:8080/",
          "height": 85
        },
        "outputId": "10af9611-ec02-451e-ad06-45d35c723a55"
      },
      "source": [
        "#segunda palabra de cada línea\n",
        "%%bash\n",
        "echo \"Bash is a Unix shell and command language\n",
        "written by Brian Fox for the\n",
        "GNU Project as a free software\n",
        "replacement for the Bourne shell.\" > texto.txt\n",
        "cat texto.txt"
      ],
      "execution_count": 158,
      "outputs": [
        {
          "output_type": "stream",
          "text": [
            "Bash is a Unix shell and command language\n",
            "written by Brian Fox for the\n",
            "GNU Project as a free software\n",
            "replacement for the Bourne shell.\n"
          ],
          "name": "stdout"
        }
      ]
    },
    {
      "cell_type": "code",
      "metadata": {
        "id": "4oyu4aL-Z1cw",
        "colab_type": "code",
        "colab": {
          "base_uri": "https://localhost:8080/",
          "height": 85
        },
        "outputId": "94bbeac6-1810-4eec-e7e5-f74459bc096b"
      },
      "source": [
        "%%bash\n",
        "cut -d' ' -f3 texto.txt"
      ],
      "execution_count": 162,
      "outputs": [
        {
          "output_type": "stream",
          "text": [
            "a\n",
            "Brian\n",
            "as\n",
            "the\n"
          ],
          "name": "stdout"
        }
      ]
    },
    {
      "cell_type": "code",
      "metadata": {
        "id": "3VGtrR_ZaStw",
        "colab_type": "code",
        "colab": {}
      },
      "source": [
        "#Borrado de columnas\n",
        "%%bash\n",
        "echo \"123456790\n",
        "abcdefghi\n",
        "jklmnopqr\" > borrado.txt\n"
      ],
      "execution_count": 0,
      "outputs": []
    },
    {
      "cell_type": "code",
      "metadata": {
        "id": "emZqvsDxarOT",
        "colab_type": "code",
        "colab": {
          "base_uri": "https://localhost:8080/",
          "height": 68
        },
        "outputId": "d0d6c1f0-2845-41ce-84ff-e515fe110f50"
      },
      "source": [
        "!colrm 3 4 < borrado.txt"
      ],
      "execution_count": 170,
      "outputs": [
        {
          "output_type": "stream",
          "text": [
            "1256790\n",
            "abefghi\n",
            "jknopqr\n"
          ],
          "name": "stdout"
        }
      ]
    },
    {
      "cell_type": "code",
      "metadata": {
        "id": "-9quWHdwbInw",
        "colab_type": "code",
        "colab": {}
      },
      "source": [
        "#unión de archivos\n",
        "%%bash\n",
        "cat > union.txt\n",
        "key, F1, F2\n",
        "  1, 11, 12\n",
        "  2, 21, 22\n",
        "  4, 41, 42"
      ],
      "execution_count": 0,
      "outputs": []
    },
    {
      "cell_type": "code",
      "metadata": {
        "id": "mEyqlUrIbX9l",
        "colab_type": "code",
        "colab": {}
      },
      "source": [
        "%%bash\n",
        "cat > union1.txt\n",
        "key, F3, F4\n",
        "  1, 13, 14\n",
        "  2, 23, 24\n",
        "  3, 33, 34"
      ],
      "execution_count": 0,
      "outputs": []
    },
    {
      "cell_type": "code",
      "metadata": {
        "id": "4lUjM_3CbqKA",
        "colab_type": "code",
        "colab": {
          "base_uri": "https://localhost:8080/",
          "height": 68
        },
        "outputId": "145e674d-c0e1-43d9-a58b-b0640e771238"
      },
      "source": [
        "# agrega out.2 a out.1 usando como clave el primer campo (por defecto)\n",
        "%%bash\n",
        "join -t, union.txt union1.txt"
      ],
      "execution_count": 177,
      "outputs": [
        {
          "output_type": "stream",
          "text": [
            "key, F1, F2, F3, F4\n",
            "  1, 11, 12, 13, 14\n",
            "  2, 21, 22, 23, 24\n"
          ],
          "name": "stdout"
        }
      ]
    },
    {
      "cell_type": "code",
      "metadata": {
        "id": "6stVy1jOb-5o",
        "colab_type": "code",
        "colab": {
          "base_uri": "https://localhost:8080/",
          "height": 85
        },
        "outputId": "feeda034-b680-4803-b0db-2a630eaafd65"
      },
      "source": [
        "#pegado de archivos\n",
        "%%bash\n",
        "seq -f'linea %g' 2 > union.txt; cat union1.txt"
      ],
      "execution_count": 181,
      "outputs": [
        {
          "output_type": "stream",
          "text": [
            "key, F3, F4\n",
            "  1, 13, 14\n",
            "  2, 23, 24\n",
            "  3, 33, 34\n"
          ],
          "name": "stdout"
        }
      ]
    }
  ]
}