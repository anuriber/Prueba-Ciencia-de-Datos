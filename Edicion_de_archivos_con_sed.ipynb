{
  "nbformat": 4,
  "nbformat_minor": 0,
  "metadata": {
    "colab": {
      "name": "Edicion de archivos con sed.ipynb",
      "provenance": [],
      "include_colab_link": true
    },
    "kernelspec": {
      "name": "python3",
      "display_name": "Python 3"
    }
  },
  "cells": [
    {
      "cell_type": "markdown",
      "metadata": {
        "id": "view-in-github",
        "colab_type": "text"
      },
      "source": [
        "<a href=\"https://colab.research.google.com/github/anuriber/Prueba-Ciencia-de-Datos/blob/master/Edicion_de_archivos_con_sed.ipynb\" target=\"_parent\"><img src=\"https://colab.research.google.com/assets/colab-badge.svg\" alt=\"Open In Colab\"/></a>"
      ]
    },
    {
      "cell_type": "code",
      "metadata": {
        "id": "OHRJb7fxcy8p",
        "colab_type": "code",
        "colab": {}
      },
      "source": [
        "%%bash\n",
        "seq 30 > out.txt"
      ],
      "execution_count": 0,
      "outputs": []
    },
    {
      "cell_type": "code",
      "metadata": {
        "id": "L0WuPvqcdKVv",
        "colab_type": "code",
        "colab": {
          "base_uri": "https://localhost:8080/",
          "height": 34
        },
        "outputId": "d58cd284-8f6e-4511-8fd5-b50c7538a61c"
      },
      "source": [
        "%%bash\n",
        "sed -n '3p' out.txt\n"
      ],
      "execution_count": 9,
      "outputs": [
        {
          "output_type": "stream",
          "text": [
            "3\n"
          ],
          "name": "stdout"
        }
      ]
    },
    {
      "cell_type": "code",
      "metadata": {
        "id": "TL_FoMN7dOYx",
        "colab_type": "code",
        "colab": {
          "base_uri": "https://localhost:8080/",
          "height": 85
        },
        "outputId": "e8eac5d5-5d8d-4aff-b106-1105a89f7430"
      },
      "source": [
        "%%bash\n",
        "sed -n '3,6p' out.txt"
      ],
      "execution_count": 31,
      "outputs": [
        {
          "output_type": "stream",
          "text": [
            "3\n",
            "4\n",
            "5\n",
            "6\n"
          ],
          "name": "stdout"
        }
      ]
    },
    {
      "cell_type": "code",
      "metadata": {
        "id": "-0lhXEVkdREc",
        "colab_type": "code",
        "colab": {
          "base_uri": "https://localhost:8080/",
          "height": 136
        },
        "outputId": "b366934c-b06e-4f06-b86b-04025df75818"
      },
      "source": [
        "%%bash\n",
        "sed -n '3,6p; 11,13p' out.txt"
      ],
      "execution_count": 11,
      "outputs": [
        {
          "output_type": "stream",
          "text": [
            "3\n",
            "4\n",
            "5\n",
            "6\n",
            "11\n",
            "12\n",
            "13\n"
          ],
          "name": "stdout"
        }
      ]
    },
    {
      "cell_type": "code",
      "metadata": {
        "id": "3n9dTQXHdXvi",
        "colab_type": "code",
        "colab": {
          "base_uri": "https://localhost:8080/",
          "height": 119
        },
        "outputId": "8f709b9a-e87a-427e-d435-5e8aabd03b70"
      },
      "source": [
        "%%bash\n",
        "sed -n '25,$ p' out.txt"
      ],
      "execution_count": 12,
      "outputs": [
        {
          "output_type": "stream",
          "text": [
            "25\n",
            "26\n",
            "27\n",
            "28\n",
            "29\n",
            "30\n"
          ],
          "name": "stdout"
        }
      ]
    },
    {
      "cell_type": "code",
      "metadata": {
        "id": "n1dWZpltdoiz",
        "colab_type": "code",
        "colab": {
          "base_uri": "https://localhost:8080/",
          "height": 221
        },
        "outputId": "985bfe9e-22ad-4763-a4fa-9657f7e9e3de"
      },
      "source": [
        "%%bash\n",
        "sed -n '/1/p'  out.1"
      ],
      "execution_count": 13,
      "outputs": [
        {
          "output_type": "stream",
          "text": [
            "1\n",
            "10\n",
            "11\n",
            "12\n",
            "13\n",
            "14\n",
            "15\n",
            "16\n",
            "17\n",
            "18\n",
            "19\n",
            "21\n"
          ],
          "name": "stdout"
        }
      ]
    },
    {
      "cell_type": "code",
      "metadata": {
        "id": "J0MWT5ncdsWG",
        "colab_type": "code",
        "colab": {
          "base_uri": "https://localhost:8080/",
          "height": 544
        },
        "outputId": "5946e25d-71fc-4a66-fb61-76a1ea3d456c"
      },
      "source": [
        "%%bash\n",
        "sed n '/1/p'  out.1"
      ],
      "execution_count": 14,
      "outputs": [
        {
          "output_type": "stream",
          "text": [
            "1\n",
            "2\n",
            "3\n",
            "4\n",
            "5\n",
            "6\n",
            "7\n",
            "8\n",
            "9\n",
            "10\n",
            "11\n",
            "12\n",
            "13\n",
            "14\n",
            "15\n",
            "16\n",
            "17\n",
            "18\n",
            "19\n",
            "20\n",
            "21\n",
            "22\n",
            "23\n",
            "24\n",
            "25\n",
            "26\n",
            "27\n",
            "28\n",
            "29\n",
            "30\n"
          ],
          "name": "stdout"
        },
        {
          "output_type": "stream",
          "text": [
            "sed: can't read /1/p: No such file or directory\n"
          ],
          "name": "stderr"
        }
      ]
    },
    {
      "cell_type": "code",
      "metadata": {
        "id": "WjSuGB-4d2qm",
        "colab_type": "code",
        "colab": {
          "base_uri": "https://localhost:8080/",
          "height": 68
        },
        "outputId": "b48eb385-8375-417b-8ed7-e9ae74f1311a"
      },
      "source": [
        "%%bash\n",
        "sed -n '/1$/p'  out.txt"
      ],
      "execution_count": 15,
      "outputs": [
        {
          "output_type": "stream",
          "text": [
            "1\n",
            "11\n",
            "21\n"
          ],
          "name": "stdout"
        }
      ]
    },
    {
      "cell_type": "code",
      "metadata": {
        "id": "dcJUKAD5eA79",
        "colab_type": "code",
        "colab": {
          "base_uri": "https://localhost:8080/",
          "height": 204
        },
        "outputId": "19839d3c-0bdf-4628-a466-9ea307d71b4f"
      },
      "source": [
        "%%bash\n",
        "sed -n '/^1/p' out.txt"
      ],
      "execution_count": 16,
      "outputs": [
        {
          "output_type": "stream",
          "text": [
            "1\n",
            "10\n",
            "11\n",
            "12\n",
            "13\n",
            "14\n",
            "15\n",
            "16\n",
            "17\n",
            "18\n",
            "19\n"
          ],
          "name": "stdout"
        }
      ]
    },
    {
      "cell_type": "code",
      "metadata": {
        "id": "1c_c31w8fmir",
        "colab_type": "code",
        "colab": {}
      },
      "source": [
        "%%bash\n",
        "cat > out1.txt\n",
        "1980-JAN-1+1:0:1.134\n",
        "1980-JAN-5+1:0:1.12\n",
        "1982-JAN-13+10:12:42.33\n"
      ],
      "execution_count": 0,
      "outputs": []
    },
    {
      "cell_type": "code",
      "metadata": {
        "id": "kuR1WxGUeGBc",
        "colab_type": "code",
        "colab": {
          "base_uri": "https://localhost:8080/",
          "height": 68
        },
        "outputId": "f52f6371-ae90-468e-a3c9-d60b23b15df6"
      },
      "source": [
        "%%bash\n",
        "sed 's/-\\([0-9]\\)+/-0\\1+/' out1.txt > out2.txt\n",
        "cat out2.txt"
      ],
      "execution_count": 19,
      "outputs": [
        {
          "output_type": "stream",
          "text": [
            "1980-JAN-01+1:0:1.134\n",
            "1980-JAN-05+1:0:1.12\n",
            "1982-JAN-13+10:12:42.33\n"
          ],
          "name": "stdout"
        }
      ]
    },
    {
      "cell_type": "code",
      "metadata": {
        "id": "3z2YYE9FhYtt",
        "colab_type": "code",
        "colab": {
          "base_uri": "https://localhost:8080/",
          "height": 68
        },
        "outputId": "2698a8a2-06b5-4829-cefa-cb651e65b98b"
      },
      "source": [
        "%%bash\n",
        "sed 's/+/ /' out2.txt > out3.txt\n",
        "cat out3.txt"
      ],
      "execution_count": 26,
      "outputs": [
        {
          "output_type": "stream",
          "text": [
            "1980-JAN-01 1:0:1.134\n",
            "1980-JAN-05 1:0:1.12\n",
            "1982-JAN-13 10:12:42.33\n"
          ],
          "name": "stdout"
        }
      ]
    },
    {
      "cell_type": "code",
      "metadata": {
        "id": "ZJWGC1bphloB",
        "colab_type": "code",
        "colab": {
          "base_uri": "https://localhost:8080/",
          "height": 68
        },
        "outputId": "996f20c3-3909-4585-ca4f-b990540a4a2d"
      },
      "source": [
        "%%bash\n",
        "sed 's/ \\([0-9]\\):/ 0\\1:/' out3.txt> out4.txt\n",
        "cat out4.txt"
      ],
      "execution_count": 25,
      "outputs": [
        {
          "output_type": "stream",
          "text": [
            "1980-JAN-01 01:0:1.134\n",
            "1980-JAN-05 01:0:1.12\n",
            "1982-JAN-13 10:12:42.33\n"
          ],
          "name": "stdout"
        }
      ]
    },
    {
      "cell_type": "code",
      "metadata": {
        "id": "a_rls0ZThufF",
        "colab_type": "code",
        "colab": {
          "base_uri": "https://localhost:8080/",
          "height": 68
        },
        "outputId": "b31f99b0-096a-4c85-9b66-edc937e6f739"
      },
      "source": [
        "%%bash\n",
        "sed 's/:\\([0-9]\\):/:0\\1:/' out4.txt > out5.txt\n",
        "cat out5.txt"
      ],
      "execution_count": 24,
      "outputs": [
        {
          "output_type": "stream",
          "text": [
            "1980-JAN-01 01:00:1.134\n",
            "1980-JAN-05 01:00:1.12\n",
            "1982-JAN-13 10:12:42.33\n"
          ],
          "name": "stdout"
        }
      ]
    },
    {
      "cell_type": "code",
      "metadata": {
        "id": "faaJz9WpiCYq",
        "colab_type": "code",
        "colab": {
          "base_uri": "https://localhost:8080/",
          "height": 68
        },
        "outputId": "a57cfbd8-a551-45e8-93f5-7c21721313d9"
      },
      "source": [
        "%%bash\n",
        "sed 's/:\\([0-9]\\)\\./:0\\1./' out5.txt > out6.txt\n",
        "cat out6.txt"
      ],
      "execution_count": 28,
      "outputs": [
        {
          "output_type": "stream",
          "text": [
            "1980-JAN-01 01:00:01.134\n",
            "1980-JAN-05 01:00:01.12\n",
            "1982-JAN-13 10:12:42.33\n"
          ],
          "name": "stdout"
        }
      ]
    },
    {
      "cell_type": "code",
      "metadata": {
        "id": "Bx5j571qiQif",
        "colab_type": "code",
        "colab": {
          "base_uri": "https://localhost:8080/",
          "height": 68
        },
        "outputId": "5aa7bba8-c186-4828-9b00-0a390cd9e2b3"
      },
      "source": [
        "%%bash\n",
        "sed 's/\\.[0-9][0-9]*//' out6.txt > out7.txt\n",
        "cat out7.txt"
      ],
      "execution_count": 29,
      "outputs": [
        {
          "output_type": "stream",
          "text": [
            "1980-JAN-01 01:00:01\n",
            "1980-JAN-05 01:00:01\n",
            "1982-JAN-13 10:12:42\n"
          ],
          "name": "stdout"
        }
      ]
    },
    {
      "cell_type": "code",
      "metadata": {
        "id": "RBHMJqUgkqRk",
        "colab_type": "code",
        "colab": {}
      },
      "source": [
        "# Adición de contenido\n",
        "%%bash\n",
        "cat > adicion.txt\n",
        "AAAA 1234 SI\n",
        "BBBB 5678 SI\n",
        "CCCC 9012 NO\n"
      ],
      "execution_count": 0,
      "outputs": []
    },
    {
      "cell_type": "code",
      "metadata": {
        "id": "jbW7yEYolhX1",
        "colab_type": "code",
        "colab": {
          "base_uri": "https://localhost:8080/",
          "height": 85
        },
        "outputId": "1a4f9f4d-b300-457a-f3f2-718cae29fcd1"
      },
      "source": [
        "%%bash\n",
        "sed '/AAAA/ i\\EEEE 0000 SI/' adicion.txt"
      ],
      "execution_count": 41,
      "outputs": [
        {
          "output_type": "stream",
          "text": [
            "EEEE 0000 SI/\n",
            "AAAA 1234 SI\n",
            "BBBB 5678 SI\n",
            "CCCC 9012 NO\n"
          ],
          "name": "stdout"
        }
      ]
    }
  ]
}