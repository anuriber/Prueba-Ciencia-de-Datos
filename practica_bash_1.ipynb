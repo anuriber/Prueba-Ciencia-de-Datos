{
  "nbformat": 4,
  "nbformat_minor": 0,
  "metadata": {
    "colab": {
      "name": "practica-bash-1.ipynb",
      "provenance": [],
      "include_colab_link": true
    },
    "kernelspec": {
      "name": "python3",
      "display_name": "Python 3"
    }
  },
  "cells": [
    {
      "cell_type": "markdown",
      "metadata": {
        "id": "view-in-github",
        "colab_type": "text"
      },
      "source": [
        "<a href=\"https://colab.research.google.com/github/anuriber/Prueba-Ciencia-de-Datos/blob/master/practica_bash_1.ipynb\" target=\"_parent\"><img src=\"https://colab.research.google.com/assets/colab-badge.svg\" alt=\"Open In Colab\"/></a>"
      ]
    },
    {
      "cell_type": "code",
      "metadata": {
        "id": "JTrzA13iJZRQ",
        "colab_type": "code",
        "colab": {
          "base_uri": "https://localhost:8080/",
          "height": 34
        },
        "outputId": "ef543093-ee4c-475d-b326-95205fe1a339"
      },
      "source": [
        "pwd\n"
      ],
      "execution_count": 1,
      "outputs": [
        {
          "output_type": "execute_result",
          "data": {
            "text/plain": [
              "'/content'"
            ]
          },
          "metadata": {
            "tags": []
          },
          "execution_count": 1
        }
      ]
    },
    {
      "cell_type": "code",
      "metadata": {
        "id": "0_4gSEv4Jt4i",
        "colab_type": "code",
        "colab": {}
      },
      "source": [
        "mkdir 1"
      ],
      "execution_count": 0,
      "outputs": []
    },
    {
      "cell_type": "code",
      "metadata": {
        "id": "w8sAvTOvJxc8",
        "colab_type": "code",
        "colab": {}
      },
      "source": [
        "mkdir 2"
      ],
      "execution_count": 0,
      "outputs": []
    },
    {
      "cell_type": "code",
      "metadata": {
        "id": "gwwAiZmdJ1Wb",
        "colab_type": "code",
        "colab": {}
      },
      "source": [
        "mkdir 3"
      ],
      "execution_count": 0,
      "outputs": []
    },
    {
      "cell_type": "code",
      "metadata": {
        "id": "6SrzJHtsJ8Vx",
        "colab_type": "code",
        "colab": {
          "base_uri": "https://localhost:8080/",
          "height": 34
        },
        "outputId": "eea0f486-58d0-4199-8997-ac0aaacd3dd0"
      },
      "source": [
        "cd 1"
      ],
      "execution_count": 6,
      "outputs": [
        {
          "output_type": "stream",
          "text": [
            "/content/1\n"
          ],
          "name": "stdout"
        }
      ]
    },
    {
      "cell_type": "code",
      "metadata": {
        "id": "2yC0lgcLJ_LD",
        "colab_type": "code",
        "colab": {}
      },
      "source": [
        "mkdir 1-1"
      ],
      "execution_count": 0,
      "outputs": []
    },
    {
      "cell_type": "code",
      "metadata": {
        "id": "iDQkB8szKJYI",
        "colab_type": "code",
        "colab": {}
      },
      "source": [
        "mkdir 1-2"
      ],
      "execution_count": 0,
      "outputs": []
    },
    {
      "cell_type": "code",
      "metadata": {
        "id": "NN8ChJnCKr33",
        "colab_type": "code",
        "colab": {}
      },
      "source": [
        "mkdir 1-3"
      ],
      "execution_count": 0,
      "outputs": []
    },
    {
      "cell_type": "code",
      "metadata": {
        "id": "kDsIpEZlKwOT",
        "colab_type": "code",
        "colab": {}
      },
      "source": [
        "!mkdir practica-bash-1"
      ],
      "execution_count": 0,
      "outputs": []
    },
    {
      "cell_type": "code",
      "metadata": {
        "id": "j11rIRemLRnZ",
        "colab_type": "code",
        "colab": {
          "base_uri": "https://localhost:8080/",
          "height": 34
        },
        "outputId": "6e8b0c84-96f9-400e-a702-dbc24a87af72"
      },
      "source": [
        "pwd"
      ],
      "execution_count": 14,
      "outputs": [
        {
          "output_type": "execute_result",
          "data": {
            "text/plain": [
              "'/content'"
            ]
          },
          "metadata": {
            "tags": []
          },
          "execution_count": 14
        }
      ]
    },
    {
      "cell_type": "code",
      "metadata": {
        "id": "jF0wDVitLlr6",
        "colab_type": "code",
        "colab": {}
      },
      "source": [
        "!mkdir practica-bash-1"
      ],
      "execution_count": 0,
      "outputs": []
    },
    {
      "cell_type": "code",
      "metadata": {
        "id": "FcV6_FcjLq_B",
        "colab_type": "code",
        "colab": {
          "base_uri": "https://localhost:8080/",
          "height": 34
        },
        "outputId": "4b4814ca-214b-4d12-94f8-bb22770af351"
      },
      "source": [
        "cd 1"
      ],
      "execution_count": 17,
      "outputs": [
        {
          "output_type": "stream",
          "text": [
            "/content/1\n"
          ],
          "name": "stdout"
        }
      ]
    },
    {
      "cell_type": "code",
      "metadata": {
        "id": "3igjdAG1L6Ys",
        "colab_type": "code",
        "colab": {
          "base_uri": "https://localhost:8080/",
          "height": 34
        },
        "outputId": "edd7b582-d12b-4d7f-a0f1-ae570b313d33"
      },
      "source": [
        "!rmdir 1-1 && rmdir 1-2 && rmdir 1-3"
      ],
      "execution_count": 19,
      "outputs": [
        {
          "output_type": "stream",
          "text": [
            "rmdir: failed to remove '1-1': No such file or directory\n"
          ],
          "name": "stdout"
        }
      ]
    },
    {
      "cell_type": "code",
      "metadata": {
        "id": "H4O1hWrZMWPs",
        "colab_type": "code",
        "colab": {}
      },
      "source": [
        "rmdir content"
      ],
      "execution_count": 0,
      "outputs": []
    },
    {
      "cell_type": "code",
      "metadata": {
        "id": "__zimnaAMZ2A",
        "colab_type": "code",
        "colab": {
          "base_uri": "https://localhost:8080/",
          "height": 34
        },
        "outputId": "3bb06989-3f35-444d-f308-77779652a540"
      },
      "source": [
        "cd /content"
      ],
      "execution_count": 21,
      "outputs": [
        {
          "output_type": "stream",
          "text": [
            "/content\n"
          ],
          "name": "stdout"
        }
      ]
    },
    {
      "cell_type": "code",
      "metadata": {
        "id": "4qQGhB9SMdVV",
        "colab_type": "code",
        "colab": {}
      },
      "source": [
        "!rmdir 1 && rmdir 2 && rmdir 3"
      ],
      "execution_count": 0,
      "outputs": []
    },
    {
      "cell_type": "code",
      "metadata": {
        "id": "GRTXIviqMmsa",
        "colab_type": "code",
        "colab": {
          "base_uri": "https://localhost:8080/",
          "height": 34
        },
        "outputId": "5d77f999-1f1d-4050-c60d-64d64855ece5"
      },
      "source": [
        "cd practica-bash-1"
      ],
      "execution_count": 23,
      "outputs": [
        {
          "output_type": "stream",
          "text": [
            "/content/practica-bash-1\n"
          ],
          "name": "stdout"
        }
      ]
    },
    {
      "cell_type": "code",
      "metadata": {
        "id": "XkmVo2HMMsqs",
        "colab_type": "code",
        "colab": {}
      },
      "source": [
        "!mkdir 1 && mkdir 2 && mkdir 3"
      ],
      "execution_count": 0,
      "outputs": []
    },
    {
      "cell_type": "code",
      "metadata": {
        "id": "xXRzkKTaNHce",
        "colab_type": "code",
        "colab": {
          "base_uri": "https://localhost:8080/",
          "height": 34
        },
        "outputId": "ec1affce-04f8-4f2e-a4cc-ce2ce53df947"
      },
      "source": [
        "cd 1"
      ],
      "execution_count": 25,
      "outputs": [
        {
          "output_type": "stream",
          "text": [
            "/content/practica-bash-1/1\n"
          ],
          "name": "stdout"
        }
      ]
    },
    {
      "cell_type": "code",
      "metadata": {
        "id": "o058mV67NPny",
        "colab_type": "code",
        "colab": {
          "base_uri": "https://localhost:8080/",
          "height": 34
        },
        "outputId": "5df660d3-3d39-4dd9-da94-05ba9a67ed0b"
      },
      "source": [
        "!mkdir 1-1 && mkdir 1-2 && mkdir 1-3"
      ],
      "execution_count": 27,
      "outputs": [
        {
          "output_type": "stream",
          "text": [
            "mkdir: cannot create directory ‘1-1’: File exists\n"
          ],
          "name": "stdout"
        }
      ]
    },
    {
      "cell_type": "code",
      "metadata": {
        "id": "QVlkKSs6Nup4",
        "colab_type": "code",
        "colab": {
          "base_uri": "https://localhost:8080/",
          "height": 34
        },
        "outputId": "4d3fc156-adfb-4141-c330-e6e4e7fe8a9a"
      },
      "source": [
        "cd /content"
      ],
      "execution_count": 28,
      "outputs": [
        {
          "output_type": "stream",
          "text": [
            "/content\n"
          ],
          "name": "stdout"
        }
      ]
    },
    {
      "cell_type": "code",
      "metadata": {
        "id": "K6RPu-fGN13P",
        "colab_type": "code",
        "colab": {}
      },
      "source": [
        "!mkdir ./practica-bash-1/2/2-2 ./practica-bash-1/2/2-3"
      ],
      "execution_count": 0,
      "outputs": []
    },
    {
      "cell_type": "code",
      "metadata": {
        "id": "JKb5IL5mOsjm",
        "colab_type": "code",
        "colab": {
          "base_uri": "https://localhost:8080/",
          "height": 34
        },
        "outputId": "cecfc86f-6929-469c-c4fe-0987e7ab5727"
      },
      "source": [
        "pwd"
      ],
      "execution_count": 33,
      "outputs": [
        {
          "output_type": "execute_result",
          "data": {
            "text/plain": [
              "'/content'"
            ]
          },
          "metadata": {
            "tags": []
          },
          "execution_count": 33
        }
      ]
    },
    {
      "cell_type": "code",
      "metadata": {
        "id": "WYRBf0xlPEpa",
        "colab_type": "code",
        "colab": {}
      },
      "source": [
        "!mkdir ./practica-bash-1/3/3-1 ./practica-bash-1/3/3-2 ./practica-bash-1/3/3-3"
      ],
      "execution_count": 0,
      "outputs": []
    },
    {
      "cell_type": "code",
      "metadata": {
        "id": "bzWVffW5PS6f",
        "colab_type": "code",
        "colab": {
          "base_uri": "https://localhost:8080/",
          "height": 34
        },
        "outputId": "183f777b-c83c-4355-b5d9-2e3e77eaf248"
      },
      "source": [
        "cd practica-bash-1"
      ],
      "execution_count": 35,
      "outputs": [
        {
          "output_type": "stream",
          "text": [
            "/content/practica-bash-1\n"
          ],
          "name": "stdout"
        }
      ]
    },
    {
      "cell_type": "code",
      "metadata": {
        "id": "WuHlqjvDPYig",
        "colab_type": "code",
        "colab": {
          "base_uri": "https://localhost:8080/",
          "height": 289
        },
        "outputId": "3d1faae6-a612-405e-fa18-af3d874a064b"
      },
      "source": [
        "!apt-get install tree"
      ],
      "execution_count": 37,
      "outputs": [
        {
          "output_type": "stream",
          "text": [
            "Reading package lists... Done\n",
            "Building dependency tree       \n",
            "Reading state information... Done\n",
            "The following NEW packages will be installed:\n",
            "  tree\n",
            "0 upgraded, 1 newly installed, 0 to remove and 8 not upgraded.\n",
            "Need to get 40.7 kB of archives.\n",
            "After this operation, 105 kB of additional disk space will be used.\n",
            "Get:1 http://archive.ubuntu.com/ubuntu bionic/universe amd64 tree amd64 1.7.0-5 [40.7 kB]\n",
            "Fetched 40.7 kB in 0s (662 kB/s)\n",
            "Selecting previously unselected package tree.\n",
            "(Reading database ... 131183 files and directories currently installed.)\n",
            "Preparing to unpack .../tree_1.7.0-5_amd64.deb ...\n",
            "Unpacking tree (1.7.0-5) ...\n",
            "Setting up tree (1.7.0-5) ...\n",
            "Processing triggers for man-db (2.8.3-2ubuntu0.1) ...\n"
          ],
          "name": "stdout"
        }
      ]
    },
    {
      "cell_type": "code",
      "metadata": {
        "id": "ML_JOsFbPkor",
        "colab_type": "code",
        "colab": {
          "base_uri": "https://localhost:8080/",
          "height": 272
        },
        "outputId": "d5cc7c2b-45d8-4f5c-f037-660981424b2a"
      },
      "source": [
        "!tree"
      ],
      "execution_count": 38,
      "outputs": [
        {
          "output_type": "stream",
          "text": [
            ".\n",
            "├── 1\n",
            "│   ├── 1-1\n",
            "│   ├── 1-2\n",
            "│   └── 1-3\n",
            "├── 2\n",
            "│   ├── 2-1\n",
            "│   ├── 2-2\n",
            "│   └── 2-3\n",
            "└── 3\n",
            "    ├── 3-1\n",
            "    ├── 3-2\n",
            "    └── 3-3\n",
            "\n",
            "12 directories, 0 files\n"
          ],
          "name": "stdout"
        }
      ]
    },
    {
      "cell_type": "code",
      "metadata": {
        "id": "mDN9Ngm4PzoA",
        "colab_type": "code",
        "colab": {
          "base_uri": "https://localhost:8080/",
          "height": 34
        },
        "outputId": "a5a04396-2712-442f-e043-e1bfeaaead5a"
      },
      "source": [
        "pwd"
      ],
      "execution_count": 39,
      "outputs": [
        {
          "output_type": "execute_result",
          "data": {
            "text/plain": [
              "'/content/practica-bash-1'"
            ]
          },
          "metadata": {
            "tags": []
          },
          "execution_count": 39
        }
      ]
    },
    {
      "cell_type": "code",
      "metadata": {
        "id": "SqpZf_1ZQZE_",
        "colab_type": "code",
        "colab": {
          "base_uri": "https://localhost:8080/",
          "height": 34
        },
        "outputId": "c0ea9f29-6c3c-47e4-89b6-964a3b08e058"
      },
      "source": [
        "!touch ./1/1-1/SUCCESS "
      ],
      "execution_count": 41,
      "outputs": [
        {
          "output_type": "stream",
          "text": [
            "/bin/bash: ./1/1-1/part-0: No such file or directory\n"
          ],
          "name": "stdout"
        }
      ]
    },
    {
      "cell_type": "code",
      "metadata": {
        "id": "T2nfYidmRSm5",
        "colab_type": "code",
        "colab": {}
      },
      "source": [
        "!touch ./1/1-1/part-0"
      ],
      "execution_count": 0,
      "outputs": []
    },
    {
      "cell_type": "code",
      "metadata": {
        "id": "iKpeI8pVRdtu",
        "colab_type": "code",
        "colab": {
          "base_uri": "https://localhost:8080/",
          "height": 34
        },
        "outputId": "fd396c7d-8b42-4971-ffff-ea30cdcfbd54"
      },
      "source": [
        "cd 1-1"
      ],
      "execution_count": 49,
      "outputs": [
        {
          "output_type": "stream",
          "text": [
            "/content/practica-bash-1/1/1-1\n"
          ],
          "name": "stdout"
        }
      ]
    },
    {
      "cell_type": "code",
      "metadata": {
        "id": "0DQiOHa3R6oB",
        "colab_type": "code",
        "colab": {}
      },
      "source": [
        "cp part-0 part-1"
      ],
      "execution_count": 0,
      "outputs": []
    },
    {
      "cell_type": "code",
      "metadata": {
        "id": "O0XCNOUTSCPk",
        "colab_type": "code",
        "colab": {}
      },
      "source": [
        "cp part-0 part-2"
      ],
      "execution_count": 0,
      "outputs": []
    },
    {
      "cell_type": "code",
      "metadata": {
        "id": "H7pBJ4Z4SPjw",
        "colab_type": "code",
        "colab": {}
      },
      "source": [
        "mv part-0 part-00001"
      ],
      "execution_count": 0,
      "outputs": []
    },
    {
      "cell_type": "code",
      "metadata": {
        "id": "9JcPa34KSa7-",
        "colab_type": "code",
        "colab": {}
      },
      "source": [
        "mv part-1 part-00001"
      ],
      "execution_count": 0,
      "outputs": []
    },
    {
      "cell_type": "code",
      "metadata": {
        "id": "DKoo8QazSrQc",
        "colab_type": "code",
        "colab": {}
      },
      "source": [
        "mv part-2 part-00002"
      ],
      "execution_count": 0,
      "outputs": []
    },
    {
      "cell_type": "code",
      "metadata": {
        "id": "PMSBoleLSyWR",
        "colab_type": "code",
        "colab": {
          "base_uri": "https://localhost:8080/",
          "height": 34
        },
        "outputId": "43eee351-5038-4f6b-956c-7e204164ddef"
      },
      "source": [
        "cd ../\n"
      ],
      "execution_count": 56,
      "outputs": [
        {
          "output_type": "stream",
          "text": [
            "/content/practica-bash-1/1\n"
          ],
          "name": "stdout"
        }
      ]
    },
    {
      "cell_type": "code",
      "metadata": {
        "id": "xDxUX9_US-sM",
        "colab_type": "code",
        "colab": {
          "base_uri": "https://localhost:8080/",
          "height": 170
        },
        "outputId": "cca029c4-547a-44c0-96cd-f9c15c0e1c3f"
      },
      "source": [
        "!tree"
      ],
      "execution_count": 57,
      "outputs": [
        {
          "output_type": "stream",
          "text": [
            ".\n",
            "├── 1-1\n",
            "│   ├── part-00001\n",
            "│   ├── part-00002\n",
            "│   └── SUCCESS\n",
            "├── 1-2\n",
            "└── 1-3\n",
            "\n",
            "3 directories, 3 files\n"
          ],
          "name": "stdout"
        }
      ]
    },
    {
      "cell_type": "code",
      "metadata": {
        "id": "sIpyf0iETFhP",
        "colab_type": "code",
        "colab": {
          "base_uri": "https://localhost:8080/",
          "height": 34
        },
        "outputId": "72ffe82f-e834-467f-f789-70ad36731f02"
      },
      "source": [
        "cd ../"
      ],
      "execution_count": 59,
      "outputs": [
        {
          "output_type": "stream",
          "text": [
            "/content/practica-bash-1\n"
          ],
          "name": "stdout"
        }
      ]
    },
    {
      "cell_type": "code",
      "metadata": {
        "id": "l1BFc6P0TKbk",
        "colab_type": "code",
        "colab": {
          "base_uri": "https://localhost:8080/",
          "height": 323
        },
        "outputId": "562c8e29-93d1-4963-eee3-aceac161e9ce"
      },
      "source": [
        "!tree"
      ],
      "execution_count": 60,
      "outputs": [
        {
          "output_type": "stream",
          "text": [
            ".\n",
            "├── 1\n",
            "│   ├── 1-1\n",
            "│   │   ├── part-00001\n",
            "│   │   ├── part-00002\n",
            "│   │   └── SUCCESS\n",
            "│   ├── 1-2\n",
            "│   └── 1-3\n",
            "├── 2\n",
            "│   ├── 2-1\n",
            "│   ├── 2-2\n",
            "│   └── 2-3\n",
            "└── 3\n",
            "    ├── 3-1\n",
            "    ├── 3-2\n",
            "    └── 3-3\n",
            "\n",
            "12 directories, 3 files\n"
          ],
          "name": "stdout"
        }
      ]
    },
    {
      "cell_type": "code",
      "metadata": {
        "id": "jAe1Z783TiJR",
        "colab_type": "code",
        "colab": {
          "base_uri": "https://localhost:8080/",
          "height": 34
        },
        "outputId": "de88af14-0c15-4243-d29e-490d9f61d858"
      },
      "source": [
        "cd 1"
      ],
      "execution_count": 63,
      "outputs": [
        {
          "output_type": "stream",
          "text": [
            "/content/practica-bash-1/1\n"
          ],
          "name": "stdout"
        }
      ]
    },
    {
      "cell_type": "code",
      "metadata": {
        "id": "ONqrpRHEUbRQ",
        "colab_type": "code",
        "colab": {
          "base_uri": "https://localhost:8080/",
          "height": 34
        },
        "outputId": "3c9497b5-cdb5-4f8a-d798-a81844f8b10b"
      },
      "source": [
        "cd ../"
      ],
      "execution_count": 65,
      "outputs": [
        {
          "output_type": "stream",
          "text": [
            "/content/practica-bash-1\n"
          ],
          "name": "stdout"
        }
      ]
    },
    {
      "cell_type": "code",
      "metadata": {
        "id": "EvLVSWxqUjLJ",
        "colab_type": "code",
        "colab": {}
      },
      "source": [
        "mv ./1/1-1/* ./3/3-3"
      ],
      "execution_count": 0,
      "outputs": []
    },
    {
      "cell_type": "code",
      "metadata": {
        "id": "pulI_5w-VCDa",
        "colab_type": "code",
        "colab": {
          "base_uri": "https://localhost:8080/",
          "height": 34
        },
        "outputId": "81e3721e-6fa5-48d8-b0ae-e77b117b967e"
      },
      "source": [
        "cd /content"
      ],
      "execution_count": 69,
      "outputs": [
        {
          "output_type": "stream",
          "text": [
            "/content\n"
          ],
          "name": "stdout"
        }
      ]
    },
    {
      "cell_type": "code",
      "metadata": {
        "id": "G_20oFJCVilB",
        "colab_type": "code",
        "colab": {}
      },
      "source": [
        "!rm -R practica-bash-1"
      ],
      "execution_count": 0,
      "outputs": []
    }
  ]
}